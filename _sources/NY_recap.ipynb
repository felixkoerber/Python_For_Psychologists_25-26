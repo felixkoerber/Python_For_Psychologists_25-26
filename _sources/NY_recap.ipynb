{
 "cells": [
  {
   "cell_type": "markdown",
   "metadata": {},
   "source": [
    "# New Year recap\n",
    "\n",
    "In today's session, we will do a recap of the concepts that most of you indicated needed some more practicing. This includes looking back at for and while loops as well as functions. Even if you feel pretty confident already, continued practice on new problems is always a good way to solidify your knowledge. If you feel like you're lagging behind and you don't understand these concepts at all, please go back to the previous [Python III notebook](\"https://aylinsgl.github.io/Python_For_Psychologists_23-24/introduction/intro_python_III.html\") and keep revising these topics. Today, we will do some live problem solving and work on more example exercises."
   ]
  },
  {
   "cell_type": "markdown",
   "metadata": {},
   "source": [
    "### For Loops"
   ]
  },
  {
   "cell_type": "markdown",
   "metadata": {},
   "source": [
    "First, let's look at for loops again. A for loop always requires some **iterable** - a collection of objects. What are some iterables you have learned about already?"
   ]
  },
  {
   "cell_type": "code",
   "execution_count": 1,
   "metadata": {
    "ExecuteTime": {
     "end_time": "2024-01-11T15:49:36.278335Z",
     "start_time": "2024-01-11T15:49:36.267156Z"
    }
   },
   "outputs": [],
   "source": [
    "it_string = \"this is an iterable with many things inside\"\n",
    "it_string_short = \"string\"\n",
    "it_list = [1,2,3]\n",
    "it_range = range(5)\n",
    "it_dictionary = {\n",
    "    \"first\": 0,\n",
    "    \"second\": 1,\n",
    "    \"third\": 2\n",
    "}\n",
    "it_tuple = (4,5,6)\n",
    "\n",
    "it_list_of_iterables = [it_string, it_string_short, it_list, it_dictionary, it_tuple]"
   ]
  },
  {
   "cell_type": "markdown",
   "metadata": {},
   "source": [
    "We can loop through elements of an iterable with **for loops**"
   ]
  },
  {
   "cell_type": "code",
   "execution_count": 4,
   "metadata": {
    "ExecuteTime": {
     "end_time": "2024-01-11T15:50:21.572203Z",
     "start_time": "2024-01-11T15:50:21.568247Z"
    }
   },
   "outputs": [
    {
     "name": "stdout",
     "output_type": "stream",
     "text": [
      "s\n",
      "t\n",
      "r\n",
      "i\n",
      "n\n",
      "g\n"
     ]
    }
   ],
   "source": [
    "for s in it_string_short: # defining var (s) and iteraterable (it_string)\n",
    "    print(s) # body of the loop: what should happen with each iteration?"
   ]
  },
  {
   "cell_type": "code",
   "execution_count": 5,
   "metadata": {
    "ExecuteTime": {
     "end_time": "2024-01-11T15:50:28.273005Z",
     "start_time": "2024-01-11T15:50:28.269818Z"
    }
   },
   "outputs": [
    {
     "name": "stdout",
     "output_type": "stream",
     "text": [
      "1\n",
      "2\n",
      "3\n"
     ]
    }
   ],
   "source": [
    "for l in it_list:\n",
    "    print(l)"
   ]
  },
  {
   "cell_type": "code",
   "execution_count": 7,
   "metadata": {
    "ExecuteTime": {
     "end_time": "2024-01-11T15:51:03.507062Z",
     "start_time": "2024-01-11T15:51:03.503300Z"
    }
   },
   "outputs": [
    {
     "name": "stdout",
     "output_type": "stream",
     "text": [
      "1\n",
      "2\n",
      "3\n",
      "4\n",
      "5\n"
     ]
    }
   ],
   "source": [
    "for r in it_range:\n",
    "    print(r+1)"
   ]
  },
  {
   "cell_type": "code",
   "execution_count": 9,
   "metadata": {
    "ExecuteTime": {
     "end_time": "2024-01-11T15:51:20.605591Z",
     "start_time": "2024-01-11T15:51:20.601715Z"
    }
   },
   "outputs": [
    {
     "name": "stdout",
     "output_type": "stream",
     "text": [
      "0\n",
      "1\n",
      "2\n"
     ]
    }
   ],
   "source": [
    "for item in it_dictionary.values():\n",
    "    print(item)"
   ]
  },
  {
   "cell_type": "code",
   "execution_count": 11,
   "metadata": {
    "ExecuteTime": {
     "end_time": "2024-01-11T15:51:54.640389Z",
     "start_time": "2024-01-11T15:51:54.636759Z"
    }
   },
   "outputs": [
    {
     "name": "stdout",
     "output_type": "stream",
     "text": [
      "<class 'str'> this is an iterable with many things inside\n",
      "<class 'str'> string\n",
      "<class 'list'> [1, 2, 3]\n",
      "<class 'dict'> {'first': 0, 'second': 1, 'third': 2}\n",
      "<class 'tuple'> (4, 5, 6)\n"
     ]
    }
   ],
   "source": [
    "for it in it_list_of_iterables:\n",
    "    print(type(it), it)"
   ]
  },
  {
   "cell_type": "markdown",
   "metadata": {},
   "source": [
    "### List comprehensions\n",
    "\n",
    "Imagine you have some iterable (e.g., list) and you want to loop through each item of this iterable with the goal to at the end have a list, that stores the output of the loop body from each iteration. you could do it like this:"
   ]
  },
  {
   "cell_type": "code",
   "execution_count": 12,
   "metadata": {
    "ExecuteTime": {
     "end_time": "2024-01-11T15:54:32.725834Z",
     "start_time": "2024-01-11T15:54:32.721428Z"
    }
   },
   "outputs": [
    {
     "name": "stdout",
     "output_type": "stream",
     "text": [
      "[0.01, 0.02, 0.03, 0.04, 0.05, 0.06, 0.07, 0.08, 0.09]\n"
     ]
    }
   ],
   "source": [
    "it_list = [1,2,3,4,5,6,7,8,9]\n",
    "outcome_list = []\n",
    "\n",
    "for i in it_list:\n",
    "    new_i = i/100\n",
    "    outcome_list.append(new_i)\n",
    "print(outcome_list)"
   ]
  },
  {
   "cell_type": "markdown",
   "metadata": {},
   "source": [
    "The purpose of list comprehensions is to reduce the number of individual steps required to produce this specific goal, by making it a \"one liner\""
   ]
  },
  {
   "cell_type": "code",
   "execution_count": 13,
   "metadata": {
    "ExecuteTime": {
     "end_time": "2024-01-11T15:56:17.256955Z",
     "start_time": "2024-01-11T15:56:17.252811Z"
    }
   },
   "outputs": [
    {
     "name": "stdout",
     "output_type": "stream",
     "text": [
      "[0.01, 0.02, 0.03, 0.04, 0.05, 0.06, 0.07, 0.08, 0.09]\n"
     ]
    }
   ],
   "source": [
    "it_list = [1,2,3,4,5,6,7,8,9]\n",
    "outcome_list = [i/100 for i in it_list]\n",
    "\n",
    "print(outcome_list)"
   ]
  },
  {
   "cell_type": "markdown",
   "metadata": {},
   "source": [
    "What if we wanted to include a conditional statement in our list comprehension? This is possible for simple if-else statements:"
   ]
  },
  {
   "cell_type": "code",
   "execution_count": 14,
   "metadata": {
    "ExecuteTime": {
     "end_time": "2024-01-11T15:59:05.164419Z",
     "start_time": "2024-01-11T15:59:05.160433Z"
    }
   },
   "outputs": [
    {
     "name": "stdout",
     "output_type": "stream",
     "text": [
      "[0.01, 0.02, 0.03, 0.04]\n"
     ]
    }
   ],
   "source": [
    "outcome_list = [i/100 for i in it_list if i<5]\n",
    "print(outcome_list)"
   ]
  },
  {
   "cell_type": "markdown",
   "metadata": {},
   "source": [
    "If we want to include what should happen if the statement evaluates to false (basically in the `else` case), we need to move it to the front of the list comprehension, before the `for x in y`"
   ]
  },
  {
   "cell_type": "code",
   "execution_count": 16,
   "metadata": {
    "ExecuteTime": {
     "end_time": "2024-01-11T16:01:40.169692Z",
     "start_time": "2024-01-11T16:01:40.165602Z"
    }
   },
   "outputs": [
    {
     "name": "stdout",
     "output_type": "stream",
     "text": [
      "[0.01, 0.02, 0.03, 0.04, 5, 6, 7, 8, 9]\n"
     ]
    }
   ],
   "source": [
    "outcome_list = [i/100 if i < 5 else i for i in it_list]\n",
    "print(outcome_list)"
   ]
  },
  {
   "cell_type": "markdown",
   "metadata": {},
   "source": [
    "**Exercise**\n",
    "\n",
    "The secret number game:\n",
    "\n",
    "Use the `random.randint(lower_limit, upper_limit)` function to generate a secret number between the specified range and store it in a variable called `secret_number`.\n",
    "Allow the player to make multiple guesses by setting `max_attempts` to the number of guesses you want to allow. \n",
    "Loop through the number of guesses you allow and provide feedback for whether the guessed number was correct, too high or too low.\n",
    "End the game when the player correctly guesses the secret number or after a certain number of attempts.\n",
    "\n",
    "In order to submit a guess for each attempt you can use `int(input(f\"\\nAttempt {attempt}/{max_attempts}: Enter your guess: \"))` and assign it to a variable called `guess`.\n",
    "\n",
    "Hints: \n",
    "- Use if, elif, and else statements to provide feedback on the player's guess.\n",
    "- Include a break statement to exit the loop when the player guesses correctly.\n",
    "\n",
    "Feel free to customize the range, the number of attempts, and any other aspects of the game to make it more engaging!\n",
    "\n"
   ]
  },
  {
   "cell_type": "code",
   "execution_count": 20,
   "metadata": {
    "ExecuteTime": {
     "end_time": "2024-01-11T16:31:19.759153Z",
     "start_time": "2024-01-11T16:31:13.750016Z"
    }
   },
   "outputs": [
    {
     "name": "stdout",
     "output_type": "stream",
     "text": [
      "the lower limit is 1 & the upper limit is 20. You have a maximum of 3 attempts\n",
      "\n",
      "Attempt 0/3: Enter your guess: 10\n",
      "Too high! Guess again\n",
      "\n",
      "Attempt 1/3: Enter your guess: 5\n",
      "Too high! Guess again\n",
      "\n",
      "Attempt 2/3: Enter your guess: 2\n",
      "Too high! Guess again\n",
      "You ran out of attempts, better luck next time. The secret number was 1\n"
     ]
    }
   ],
   "source": [
    "import random\n",
    "\n",
    "# Set the range for the secret number\n",
    "lower_limit = 1\n",
    "upper_limit = 20\n",
    "\n",
    "# Generate a random secret number\n",
    "secret_number = random.randint(lower_limit, upper_limit)\n",
    "\n",
    "# Set the maximum number of attempts\n",
    "max_attempts = 3\n",
    "\n",
    "# print some welcome statement that tells the player the lower and upper limits of their guesses as well as the number of guesses available\n",
    "print(\"the lower limit is {} & the upper limit is {}. You have a maximum of {} attempts\".format(lower_limit,upper_limit,max_attempts))\n",
    "\n",
    "# create a for loop that asks for a guess, provides feedback on the guess and exits when the game ends (either correct guess or running out of nr of attempts)\n",
    "for attempt in range(max_attempts):\n",
    "    guess = int(input(f\"\\nAttempt {attempt}/{max_attempts}: Enter your guess: \"))\n",
    "    \n",
    "    if guess == secret_number:\n",
    "        print(\"Congratulations! You won the game by guessing the correct number\")\n",
    "        break\n",
    "    elif guess < secret_number:\n",
    "        print(\"Too low! Guess again\")\n",
    "    else:\n",
    "        print(\"Too high! Guess again\")\n",
    "        \n",
    "else:\n",
    "    print(f\"You ran out of attempts, better luck next time. The secret number was {secret_number}\")\n",
    "    \n"
   ]
  },
  {
   "cell_type": "markdown",
   "metadata": {},
   "source": [
    "**Exercise**\n",
    "\n",
    "Grade calculator:\n",
    "\n",
    "Create a variable called `num_students` and assign it 20. \n",
    "Create a variable called `grades` and fill it with random numbers between 1 and 6 for each student via a list comprehension.\n",
    "Calculate and print the average score across students.\n"
   ]
  },
  {
   "cell_type": "code",
   "execution_count": 23,
   "metadata": {
    "ExecuteTime": {
     "end_time": "2024-01-11T16:40:39.693490Z",
     "start_time": "2024-01-11T16:40:38.530330Z"
    }
   },
   "outputs": [
    {
     "name": "stdout",
     "output_type": "stream",
     "text": [
      "[2, 2, 2, 2, 5, 1, 2, 3, 4, 6, 4, 6, 4, 5, 5, 6, 6, 3, 4, 1]\n",
      "3.65\n"
     ]
    }
   ],
   "source": [
    "import numpy as np\n",
    "\n",
    "# number of students\n",
    "num_students = 20 \n",
    "\n",
    "# generate grades for each student\n",
    "grades = [random.randint(1, 6) for i in range(num_students)]\n",
    "print(grades)\n",
    "\n",
    "# print average grade\n",
    "print(np.mean(grades))"
   ]
  },
  {
   "cell_type": "markdown",
   "metadata": {},
   "source": [
    "Now use another list comprehension to create a new list called `passed` that only includes grades better or equal to 4 and calculate the mean over the new list."
   ]
  },
  {
   "cell_type": "code",
   "execution_count": 25,
   "metadata": {
    "ExecuteTime": {
     "end_time": "2024-01-11T16:44:38.286298Z",
     "start_time": "2024-01-11T16:44:38.282522Z"
    }
   },
   "outputs": [
    {
     "name": "stdout",
     "output_type": "stream",
     "text": [
      "[2, 2, 2, 2, 1, 2, 3, 4, 4, 4, 3, 4, 1]\n",
      "2.6153846153846154\n"
     ]
    }
   ],
   "source": [
    "# your solution here\n",
    "passed = [i for i in grades if i<=4]\n",
    "print(passed)\n",
    "print(np.mean(passed))"
   ]
  },
  {
   "cell_type": "markdown",
   "metadata": {},
   "source": [
    "### Functions"
   ]
  },
  {
   "cell_type": "markdown",
   "metadata": {},
   "source": [
    "</br>\n",
    "</br>\n",
    "\n",
    "<center><img src=\"https://raw.githubusercontent.com/PeerHerholz/Python_for_Psychologists_Winter2021/master/lecture/static/python_functions.png\" width=700></center>\n",
    "\n",
    "</br>"
   ]
  },
  {
   "cell_type": "markdown",
   "metadata": {},
   "source": [
    "**Exercise**\n",
    "\n",
    "you will create a simple text-based adventure game called \"Escape the Dungeon.\" The goal is to guide the player through a series of rooms, each presenting a unique challenge or obstacle. The player must make choices to overcome these challenges and successfully escape the dungeon.\n",
    "\n",
    "You need to create two functions: `room_challenge` and `escape_dungeon`. \n",
    "\n",
    "The `room_challenge` function should take in one positional argument `room_number`. First, it should print the room number and a prompt that says \"there is a challenge you have to complete\". Then, you should create a variable `success` that randomly evaluates to `True` or `False`. If the challenge went successful, print a congratulations statement and return `True`. If not, print a statement that says the challenge failed and return `False`.\n",
    "\n",
    "The `escape_dungeon` function should take in one positional argument `num_rooms`. First, it should  print a prompt that welcomes the player and tells them how many rooms awaits them. Then, for each room, call the `room_challenge` function. If the challenge was successful, let the player know they successfully cleared the room. If not, exit the game and print a statement letting the play know they lost the game. If all rooms were cleared successfully, print a statement letting the play know they escaped the dungeon.  "
   ]
  },
  {
   "cell_type": "code",
   "execution_count": 48,
   "metadata": {
    "ExecuteTime": {
     "end_time": "2024-01-11T17:23:30.844625Z",
     "start_time": "2024-01-11T17:23:30.838464Z"
    }
   },
   "outputs": [
    {
     "name": "stdout",
     "output_type": "stream",
     "text": [
      "Welcome Player! 3 rooms await you \n",
      "  \n",
      "This is room number 1! There is a challenge to complete!\n",
      "Congratulations! \n",
      "you completed this challenge\n",
      "you successfully cleared this room! Onto the next one. \n",
      " \n",
      "This is room number 2! There is a challenge to complete!\n",
      "Congratulations! \n",
      "you completed this challenge\n",
      "you successfully cleared this room! Onto the next one. \n",
      " \n",
      "This is room number 3! There is a challenge to complete!\n",
      "Congratulations! \n",
      "you completed this challenge\n",
      "you successfully cleared this room! Onto the next one. \n",
      " \n",
      "Congratulations! You won the game\n"
     ]
    }
   ],
   "source": [
    "import random\n",
    "\n",
    "# define the first function\n",
    "def room_challenge(room_number):\n",
    "    print(f\"This is room number {room_number+1}! There is a challenge to complete!\")\n",
    "    success = random.choice([True, False])\n",
    "    if success:\n",
    "        print(\"Congratulations! \\nyou completed this challenge\")\n",
    "        return True\n",
    "    else:\n",
    "        print(\"Unfortunately, you failed this challenge\")\n",
    "        return False\n",
    "        \n",
    "# define the second function\n",
    "def escape_dungeon(num_rooms):\n",
    "    print(\"Welcome Player! {} rooms await you \\n  \".format(num_rooms))\n",
    "    \n",
    "    for room_nr in range(num_rooms):\n",
    "        successful = room_challenge(room_nr)\n",
    "        \n",
    "        if successful:\n",
    "            print(\"you successfully cleared this room! Onto the next one. \\n \")\n",
    "        else:\n",
    "            print(\"Sorry, better luck next time, you failed the game!\")\n",
    "            break\n",
    "    else:\n",
    "        print(\"Congratulations! You won the game\")\n",
    "        \n",
    "        \n",
    "\n",
    "# call the function to mock \"play\" the game \n",
    "escape_dungeon(3)"
   ]
  },
  {
   "cell_type": "code",
   "execution_count": null,
   "metadata": {},
   "outputs": [],
   "source": []
  }
 ],
 "metadata": {
  "kernelspec": {
   "display_name": "Python 3 (ipykernel)",
   "language": "python",
   "name": "python3"
  },
  "language_info": {
   "codemirror_mode": {
    "name": "ipython",
    "version": 3
   },
   "file_extension": ".py",
   "mimetype": "text/x-python",
   "name": "python",
   "nbconvert_exporter": "python",
   "pygments_lexer": "ipython3",
   "version": "3.11.5"
  }
 },
 "nbformat": 4,
 "nbformat_minor": 2
}
